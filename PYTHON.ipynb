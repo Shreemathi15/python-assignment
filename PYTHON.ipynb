{
  "nbformat": 4,
  "nbformat_minor": 0,
  "metadata": {
    "colab": {
      "provenance": [],
      "toc_visible": true,
      "authorship_tag": "ABX9TyPEdapqJxhBiSDdTR070PWp",
      "include_colab_link": true
    },
    "kernelspec": {
      "name": "python3",
      "display_name": "Python 3"
    },
    "language_info": {
      "name": "python"
    }
  },
  "cells": [
    {
      "cell_type": "markdown",
      "metadata": {
        "id": "view-in-github",
        "colab_type": "text"
      },
      "source": [
        "<a href=\"https://colab.research.google.com/github/Shreemathi15/python-assignment/blob/main/PYTHON.ipynb\" target=\"_parent\"><img src=\"https://colab.research.google.com/assets/colab-badge.svg\" alt=\"Open In Colab\"/></a>"
      ]
    },
    {
      "cell_type": "markdown",
      "source": [
        "Experiment 1\n"
      ],
      "metadata": {
        "id": "Gjf1u_NJzOvG"
      }
    },
    {
      "cell_type": "code",
      "source": [
        "n=int(input(\"enter a number : \"))\n",
        "fact=1\n",
        "if(n%2==1):\n",
        "  for i in range(2,n+1):\n",
        "    fact*=i\n",
        "  print(fact)\n",
        "  print(\"the length is\",len(str(fact)))\n",
        "elif(n%2==0):\n",
        "  pal=str(n)[::-1]\n",
        "  if(pal==n):\n",
        "    print(\"it is palindrome\")\n",
        "  else:\n",
        "    print(\"it ia not a palindrome\")\n"
      ],
      "metadata": {
        "colab": {
          "base_uri": "https://localhost:8080/"
        },
        "id": "feKhkxUmzScE",
        "outputId": "746339a7-a475-4742-974f-4d99280620e8"
      },
      "execution_count": null,
      "outputs": [
        {
          "output_type": "stream",
          "name": "stdout",
          "text": [
            "enter a number : 7 \n",
            "5040\n",
            "the length is 4\n"
          ]
        }
      ]
    },
    {
      "cell_type": "markdown",
      "source": [
        "Experiment 2"
      ],
      "metadata": {
        "id": "wJFdFAiuzX2a"
      }
    },
    {
      "cell_type": "code",
      "source": [
        "a=input(\"enter a  word : \")\n",
        "b=input(\"enter another word: \")\n",
        "if b in a:\n",
        "  print(\"YES\")\n",
        "else:\n",
        "  print(\"NO\")"
      ],
      "metadata": {
        "colab": {
          "base_uri": "https://localhost:8080/"
        },
        "id": "7S3JXjCtzZwS",
        "outputId": "35014ce7-824e-4f17-d331-2792827e2f30"
      },
      "execution_count": null,
      "outputs": [
        {
          "output_type": "stream",
          "name": "stdout",
          "text": [
            "enter a  word : welcome\n",
            "enter another word: come\n",
            "YES\n"
          ]
        }
      ]
    },
    {
      "cell_type": "markdown",
      "source": [
        "Experiment 3(a)"
      ],
      "metadata": {
        "id": "o9thCE0QzwQ4"
      }
    },
    {
      "cell_type": "code",
      "source": [
        "li = list(input(\"Enter a list of numbers: \"))\n",
        "print(li)\n",
        "first = li[0]\n",
        "print(\"The first element of the list is:\", first)\n",
        "last = li[-1]\n",
        "print(\"The last element of the list is:\", last)\n",
        "\n"
      ],
      "metadata": {
        "colab": {
          "base_uri": "https://localhost:8080/"
        },
        "id": "4aonAKFVYmVK",
        "outputId": "0e728c21-d8bb-43ba-bf06-108e0f59a9ae"
      },
      "execution_count": null,
      "outputs": [
        {
          "output_type": "stream",
          "name": "stdout",
          "text": [
            "Enter a list of numbers: 1234\n",
            "['1', '2', '3', '4']\n",
            "The first element of the list is: 1\n",
            "The last element of the list is: 4\n"
          ]
        }
      ]
    },
    {
      "cell_type": "markdown",
      "source": [
        "Experiment 3(b)"
      ],
      "metadata": {
        "id": "ozAkqBhmi0GO"
      }
    },
    {
      "cell_type": "code",
      "source": [
        "def ascending(lst):\n",
        "    for i in range(len(lst) - 1):\n",
        "        if lst[i] > lst[i + 1]:\n",
        "            return False\n",
        "    return True\n",
        "\n",
        "\n",
        "lst = list(map(int,input(\"enter number : \").split()))\n",
        "\n",
        "\n",
        "if ascending(lst):\n",
        "    print(\"list is in ascending order\")\n",
        "else:\n",
        "    print(\"list is not in ascending order\")\n",
        "\n",
        "\n",
        "\n"
      ],
      "metadata": {
        "colab": {
          "base_uri": "https://localhost:8080/"
        },
        "id": "yJb_1RBMi6GV",
        "outputId": "c385ac2d-d5e8-4cba-aa72-9cec5baa2181"
      },
      "execution_count": null,
      "outputs": [
        {
          "output_type": "stream",
          "name": "stdout",
          "text": [
            "enter number : 3 2 1\n",
            "list is not in ascending order\n"
          ]
        }
      ]
    },
    {
      "cell_type": "markdown",
      "source": [
        "Experiment 4(a)"
      ],
      "metadata": {
        "id": "9ZRUb25kklEH"
      }
    },
    {
      "cell_type": "code",
      "source": [
        "my_tuple = tuple(map(int,input().split()))\n",
        "string = ''.join(map(str, my_tuple))\n",
        "print(\" the string is\",string)\n"
      ],
      "metadata": {
        "colab": {
          "base_uri": "https://localhost:8080/"
        },
        "id": "W-JlHwWCkn55",
        "outputId": "0ee78069-affe-49ea-d0bc-ae600ed758b3"
      },
      "execution_count": null,
      "outputs": [
        {
          "output_type": "stream",
          "name": "stdout",
          "text": [
            "1 2 3\n",
            " the string is 123\n"
          ]
        }
      ]
    },
    {
      "cell_type": "markdown",
      "source": [
        "Experiment 4(b)"
      ],
      "metadata": {
        "id": "kih5wJXEq8-3"
      }
    },
    {
      "cell_type": "code",
      "source": [
        "tu=tuple(input(\"enter a tuple : \" ))\n",
        "tup=tu[::-1]\n",
        "print(tup)"
      ],
      "metadata": {
        "colab": {
          "base_uri": "https://localhost:8080/"
        },
        "id": "IKCXmxTDrAL2",
        "outputId": "1b69468b-cff2-4a1f-92be-d89f0a297afe"
      },
      "execution_count": null,
      "outputs": [
        {
          "output_type": "stream",
          "name": "stdout",
          "text": [
            "enter a tuple3 4 5\n",
            "('5', ' ', '4', ' ', '3')\n"
          ]
        }
      ]
    },
    {
      "cell_type": "markdown",
      "source": [
        "Experiment 5"
      ],
      "metadata": {
        "id": "x88cDo4YqxPo"
      }
    },
    {
      "cell_type": "code",
      "source": [
        "set1 = set(input(\" first set:  \").split())\n",
        "set2 = set(input(\" second set:  \").split())\n",
        "if set1.issubset(set2):\n",
        "  print(\"The first set is a subset of the second set\")\n",
        "\n",
        "else:\n",
        "  print(\"It is not a subset\")"
      ],
      "metadata": {
        "colab": {
          "base_uri": "https://localhost:8080/"
        },
        "id": "UYk90LBPqz2m",
        "outputId": "eb1606d1-d305-4aab-d6e7-3ca679735fa6"
      },
      "execution_count": null,
      "outputs": [
        {
          "output_type": "stream",
          "name": "stdout",
          "text": [
            " first set:  2 4\n",
            " second set:  1 2 3 4\n",
            "The first set is a subset of the second set\n"
          ]
        }
      ]
    },
    {
      "cell_type": "markdown",
      "source": [
        "Experiment 6"
      ],
      "metadata": {
        "id": "QCmeUdFtsQpJ"
      }
    },
    {
      "cell_type": "code",
      "source": [
        "color = {}\n",
        "n = int(input(\"Enter the number of elements \"))\n",
        "for i in range(n):\n",
        "  key = input(\"Enter the key: \")\n",
        "  value = input(\"Enter the value: \")\n",
        "  color[key] = value\n",
        "print(\"Dictionary elements are: \\n\")\n",
        "for key, value in color.items():\n",
        "  print(key, value)"
      ],
      "metadata": {
        "colab": {
          "base_uri": "https://localhost:8080/"
        },
        "id": "YFFfW3XmsYUh",
        "outputId": "5a360c8f-dc0e-4b54-9ec9-3c54f220a4d2"
      },
      "execution_count": null,
      "outputs": [
        {
          "output_type": "stream",
          "name": "stdout",
          "text": [
            "Enter the number of elements 3\n",
            "Enter the key: a\n",
            "Enter the value: apple\n",
            "Enter the key: b\n",
            "Enter the value: ball\n",
            "Enter the key: c\n",
            "Enter the value: cat\n",
            "Dictionary elements are: \n",
            "\n",
            "a apple\n",
            "b ball\n",
            "c cat\n"
          ]
        }
      ]
    },
    {
      "cell_type": "markdown",
      "source": [
        "Experiment 7(a)"
      ],
      "metadata": {
        "id": "7QOsa6Ggs2Kc"
      }
    },
    {
      "cell_type": "code",
      "source": [
        "import numpy as np\n",
        "li = list(map(int,input(\"enter numbers : \").split()))\n",
        "a = np.array(li)\n",
        "print(\"The Numpy array is:\",a)"
      ],
      "metadata": {
        "colab": {
          "base_uri": "https://localhost:8080/"
        },
        "id": "t_Izn3Pps7V8",
        "outputId": "f82b0757-403c-4029-b90a-66ed2a36dcb5"
      },
      "execution_count": null,
      "outputs": [
        {
          "output_type": "stream",
          "name": "stdout",
          "text": [
            "enter numbers : 1 2 3 4 5 6 7\n",
            "The Numpy array is: [1 2 3 4 5 6 7]\n"
          ]
        }
      ]
    },
    {
      "cell_type": "markdown",
      "source": [
        "Experiment 7(b)"
      ],
      "metadata": {
        "id": "M_JQfYbetLVp"
      }
    },
    {
      "cell_type": "code",
      "source": [
        "import numpy as np\n",
        "li = list(map(int,input(\"enter 1st array : \").split()))\n",
        "tu = tuple(map(int,input(\"enter 2nd array : \").split()))\n",
        "\n",
        "a1 = np.array(li)\n",
        "a2 = np.array(tu)\n",
        "a12 = np.concatenate((a1,a2))\n",
        "print(\"The combined array is:\",a12)\n",
        "print(type(a12))\n"
      ],
      "metadata": {
        "colab": {
          "base_uri": "https://localhost:8080/"
        },
        "id": "oDI35T9OtNz8",
        "outputId": "793ffde5-cbc9-41fb-8c56-0bcfb6c04875"
      },
      "execution_count": null,
      "outputs": [
        {
          "output_type": "stream",
          "name": "stdout",
          "text": [
            "enter 1st array : 1 2 3 4\n",
            "enter 2nd array : 5 6 7 8\n",
            "The combined array is: [1 2 3 4 5 6 7 8]\n",
            "<class 'numpy.ndarray'>\n"
          ]
        }
      ]
    },
    {
      "cell_type": "markdown",
      "source": [
        "Experiment 8(a)"
      ],
      "metadata": {
        "id": "sUmB_tYptcIY"
      }
    },
    {
      "cell_type": "code",
      "source": [
        "import numpy as np\n",
        "import pandas as pd\n",
        "a = np.random.rand(3)\n",
        "print(\"Array:\",a)\n",
        "df1 = pd.DataFrame(a)\n",
        "print(\"DataFrame:\\n\", df1,\"\\n\", type(df1),)\n",
        "\n",
        "s = pd.Series(a)\n",
        "print(\"\\nSeries:\\n\",s)\n",
        "df2 = pd.DataFrame(s)\n",
        "print(\"DataFrame:\\n\", df2, \"\\n\", type(df2))\n"
      ],
      "metadata": {
        "colab": {
          "base_uri": "https://localhost:8080/"
        },
        "id": "HpT7clOYte1T",
        "outputId": "c47b04b4-042c-44c0-c695-6a8112d873d7"
      },
      "execution_count": null,
      "outputs": [
        {
          "output_type": "stream",
          "name": "stdout",
          "text": [
            "Array: [0.46202129 0.13545861 0.96208011]\n",
            "DataFrame:\n",
            "           0\n",
            "0  0.462021\n",
            "1  0.135459\n",
            "2  0.962080 \n",
            " <class 'pandas.core.frame.DataFrame'>\n",
            "\n",
            "Series:\n",
            " 0    0.462021\n",
            "1    0.135459\n",
            "2    0.962080\n",
            "dtype: float64\n",
            "DataFrame:\n",
            "           0\n",
            "0  0.462021\n",
            "1  0.135459\n",
            "2  0.962080 \n",
            " <class 'pandas.core.frame.DataFrame'>\n"
          ]
        }
      ]
    },
    {
      "cell_type": "markdown",
      "source": [
        "Experiment 8(b)"
      ],
      "metadata": {
        "id": "gqtDcQHotuR2"
      }
    },
    {
      "cell_type": "code",
      "source": [
        "import pandas as pd\n",
        "s1 = pd.Series([1, 2, 3, 4, 5])\n",
        "s2 = pd.Series([2, 4, 6, 8, 10])\n",
        "print(\"Addition: \\n\", s1 + s2)\n",
        "print(\"Subtraction: \\n\", s1 - s2)\n",
        "print(\"Multiplication: \\n\", s1 * s2)\n",
        "print(\"Division: \\n\", s1 / s2)"
      ],
      "metadata": {
        "colab": {
          "base_uri": "https://localhost:8080/"
        },
        "id": "LrReHloltwku",
        "outputId": "1ba0ea33-922d-4630-cb41-c0579822eaf4"
      },
      "execution_count": null,
      "outputs": [
        {
          "output_type": "stream",
          "name": "stdout",
          "text": [
            "Addition: \n",
            " 0     3\n",
            "1     6\n",
            "2     9\n",
            "3    12\n",
            "4    15\n",
            "dtype: int64\n",
            "Subtraction: \n",
            " 0   -1\n",
            "1   -2\n",
            "2   -3\n",
            "3   -4\n",
            "4   -5\n",
            "dtype: int64\n",
            "Multiplication: \n",
            " 0     2\n",
            "1     8\n",
            "2    18\n",
            "3    32\n",
            "4    50\n",
            "dtype: int64\n",
            "Division: \n",
            " 0    0.5\n",
            "1    0.5\n",
            "2    0.5\n",
            "3    0.5\n",
            "4    0.5\n",
            "dtype: float64\n"
          ]
        }
      ]
    }
  ]
}